{
 "cells": [
  {
   "cell_type": "code",
   "execution_count": null,
   "metadata": {},
   "outputs": [],
   "source": [
    "import sqlite3\n",
    "\n",
    "import pprint\n",
    "pp = pprint.PrettyPrinter(indent=2)"
   ]
  },
  {
   "cell_type": "code",
   "execution_count": null,
   "metadata": {},
   "outputs": [],
   "source": [
    "con = sqlite3.connect(\"./../data/zotero.sqlite\")\n",
    "cursor = con.cursor()\n"
   ]
  },
  {
   "cell_type": "markdown",
   "metadata": {},
   "source": [
    "### List all tables"
   ]
  },
  {
   "cell_type": "code",
   "execution_count": null,
   "metadata": {},
   "outputs": [],
   "source": [
    "cursor.execute(\"\"\"\n",
    "    SELECT name FROM sqlite_master WHERE type='table';\n",
    "\"\"\")\n",
    "tables = cursor.fetchall()\n",
    "tables.sort(key = lambda x: x[0])"
   ]
  },
  {
   "cell_type": "code",
   "execution_count": null,
   "metadata": {},
   "outputs": [],
   "source": [
    "for i, name in enumerate(tables):\n",
    "    print(\"{:2d}. {}\".format(i+1, name[0]))"
   ]
  },
  {
   "cell_type": "markdown",
   "metadata": {},
   "source": [
    "### Count entries in each table"
   ]
  },
  {
   "cell_type": "code",
   "execution_count": null,
   "metadata": {},
   "outputs": [],
   "source": [
    "itemCounts = {}\n",
    "for i, (tName, ) in enumerate(tables):\n",
    "    cursor.execute(f\"\"\"\n",
    "        SELECT COUNT() from {tName}\n",
    "    \"\"\")\n",
    "    tCount = cursor.fetchone()[0]\n",
    "    itemCounts[tName] = tCount\n",
    "\n",
    "for tName, count in itemCounts.items():\n",
    "    print(\"{:25s} - {:8d}\".format(tName, count))"
   ]
  },
  {
   "cell_type": "markdown",
   "metadata": {},
   "source": [
    "### Read user info"
   ]
  },
  {
   "cell_type": "code",
   "execution_count": null,
   "metadata": {},
   "outputs": [],
   "source": [
    "users = {}\n",
    "cursor.execute(\"\"\"\n",
    "    SELECT * FROM users\n",
    "\"\"\")\n",
    "\n",
    "for (userId, userName) in cursor.fetchall():\n",
    "    users[userId] = userName\n",
    "\n",
    "for userId, userName in users.items():\n",
    "    print(\"{:10d} - {:20s}\".format(userId, userName))"
   ]
  },
  {
   "cell_type": "markdown",
   "metadata": {},
   "source": [
    "### Read settings"
   ]
  },
  {
   "cell_type": "code",
   "execution_count": null,
   "metadata": {},
   "outputs": [],
   "source": [
    "settings = {}\n",
    "cursor.execute(\"\"\"\n",
    "    SELECT * FROM settings\n",
    "\"\"\")\n",
    "\n",
    "# cursor.fetchall()\n",
    "for (setting, key, value) in cursor.fetchall():\n",
    "    if setting not in settings:\n",
    "        settings[setting] = {}\n",
    "    settings[setting][key] = value\n",
    "\n",
    "# for k, v in settings.items():\n",
    "#     print(\"{:20s}: {:20s}\".format(k, v))\n",
    "pp.pprint(settings)"
   ]
  },
  {
   "cell_type": "markdown",
   "metadata": {},
   "source": [
    "### Get all collections"
   ]
  },
  {
   "cell_type": "code",
   "execution_count": null,
   "metadata": {},
   "outputs": [],
   "source": [
    "collections = {}\n",
    "\n",
    "cursor.execute(\"\"\"\n",
    "    SELECT \n",
    "    collectionID, collectionName, parentCollectionID \n",
    "    FROM collections\n",
    "\"\"\")\n",
    "\n",
    "for id, name, parentId in cursor.fetchall():\n",
    "    collections[id] = {\n",
    "        \"name\": name,\n",
    "        \"parentId\": parentId\n",
    "    }\n",
    "\n",
    "# Print all collections and their parent\n",
    "for id, coll in collections.items():\n",
    "    if coll['parentId']:\n",
    "        parentName = collections[coll['parentId']]['name']\n",
    "    else:\n",
    "        parentName = None\n",
    "    print(\"{:4d}. {:<30s}        {:<30s}\".format(\n",
    "        id, \n",
    "        coll['name'], \n",
    "        parentName if parentName else \"\"))"
   ]
  },
  {
   "cell_type": "markdown",
   "metadata": {},
   "source": [
    "### Get number of items in each collection"
   ]
  },
  {
   "cell_type": "code",
   "execution_count": null,
   "metadata": {},
   "outputs": [],
   "source": [
    "cursor.execute(\"\"\"\n",
    "    SELECT \n",
    "    collectionID, COUNT(*)\n",
    "    FROM collectionItems\n",
    "    GROUP BY collectionID\n",
    "\"\"\")\n",
    "\n",
    "for colID, count in cursor.fetchall():\n",
    "    collections[colID][\"count\"] = count\n",
    "\n",
    "# Print all collections and their parent\n",
    "for id, coll in collections.items():\n",
    "    try:\n",
    "        if coll['parentId']:\n",
    "            parentName = collections[coll['parentId']]['name']\n",
    "        else:\n",
    "            parentName = None\n",
    "        print(\"{:4d}. {:<30s}    {:4d}        {:<30s}\".format(\n",
    "            id, \n",
    "            coll['name'], coll['count'],\n",
    "            parentName if parentName else \"\"))\n",
    "    except Exception as err:\n",
    "        print(\"Exception for ID =\", id, \"    \", coll['name'], \"    \", err)\n"
   ]
  },
  {
   "cell_type": "markdown",
   "metadata": {},
   "source": [
    "### Read all field IDs"
   ]
  },
  {
   "cell_type": "code",
   "execution_count": null,
   "metadata": {},
   "outputs": [],
   "source": [
    "cursor.execute(\"\"\"\n",
    "    SELECT * FROM fields\n",
    "\"\"\")\n",
    "\n",
    "fieldsMapping = {}\n",
    "for idx, fieldName, _ in cursor.fetchall():\n",
    "    fieldsMapping[idx] = fieldName\n",
    "\n",
    "pp.pprint(fieldsMapping)"
   ]
  },
  {
   "cell_type": "code",
   "execution_count": null,
   "metadata": {},
   "outputs": [],
   "source": []
  }
 ],
 "metadata": {
  "kernelspec": {
   "display_name": "Python 3.9.12 ('data-labs')",
   "language": "python",
   "name": "python3"
  },
  "language_info": {
   "codemirror_mode": {
    "name": "ipython",
    "version": 3
   },
   "file_extension": ".py",
   "mimetype": "text/x-python",
   "name": "python",
   "nbconvert_exporter": "python",
   "pygments_lexer": "ipython3",
   "version": "3.9.12"
  },
  "orig_nbformat": 4,
  "vscode": {
   "interpreter": {
    "hash": "152d9d60b2243ad50f390ee631fad853c8d2d0da2ff06bd7eda73af3bf8674db"
   }
  }
 },
 "nbformat": 4,
 "nbformat_minor": 2
}
