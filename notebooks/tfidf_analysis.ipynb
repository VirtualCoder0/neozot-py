{
 "cells": [
  {
   "cell_type": "markdown",
   "metadata": {},
   "source": [
    "Explore TF-IDF embeddings for each item from library"
   ]
  },
  {
   "cell_type": "code",
   "execution_count": null,
   "metadata": {},
   "outputs": [],
   "source": [
    "import sys\n",
    "sys.path.append(\"./../\") # To include ZoteroDB\n",
    "\n",
    "from zoterodb import ZoteroDB\n",
    "import pprint as pp\n",
    "\n",
    "import numpy as np\n",
    "from sklearn.feature_extraction.text import TfidfVectorizer"
   ]
  },
  {
   "cell_type": "code",
   "execution_count": null,
   "metadata": {},
   "outputs": [],
   "source": [
    "# Function to create summary from library\n",
    "def build_summary(library):\n",
    "    summary = {}\n",
    "    for id, info in library.items():\n",
    "        _title = info.get('title', None)\n",
    "        _abstract = info.get('abstractNote', None)\n",
    "        if _title and _abstract:\n",
    "            summary[id] = _title + '; ' + _abstract\n",
    "\n",
    "    return summary"
   ]
  },
  {
   "cell_type": "code",
   "execution_count": null,
   "metadata": {},
   "outputs": [],
   "source": [
    "datadir = \"./../data/\""
   ]
  },
  {
   "cell_type": "code",
   "execution_count": null,
   "metadata": {},
   "outputs": [],
   "source": [
    "zotdb = ZoteroDB(datadir)\n",
    "\n",
    "library = zotdb.get_library()"
   ]
  },
  {
   "cell_type": "code",
   "execution_count": null,
   "metadata": {},
   "outputs": [],
   "source": [
    "summary = build_summary(library)"
   ]
  },
  {
   "cell_type": "code",
   "execution_count": null,
   "metadata": {},
   "outputs": [],
   "source": [
    "# Create TF-IDF embedding for library items\n",
    "mapper = TfidfVectorizer(\n",
    "    input='content',\n",
    "    strip_accents='unicode',\n",
    "    lowercase=True,\n",
    "    analyzer='word',\n",
    "    stop_words='english',\n",
    "    max_df=0.25,\n",
    "    min_df=10,\n",
    "    norm='l2',\n",
    "    use_idf=True\n",
    ")\n",
    "\n",
    "library_data = mapper.fit_transform(summary.values())"
   ]
  },
  {
   "cell_type": "code",
   "execution_count": null,
   "metadata": {},
   "outputs": [],
   "source": [
    "word_index_mapping = mapper.vocabulary_\n",
    "index_word_mapping = {v: k for k, v in word_index_mapping.items() }"
   ]
  },
  {
   "cell_type": "code",
   "execution_count": null,
   "metadata": {},
   "outputs": [],
   "source": [
    "# Pick a random sample\n",
    "i = np.random.randint(0, len(summary))\n",
    "_, feature_idx = library_data[i, :].nonzero() # all features of item index i\n",
    "\n",
    "# Print summary of document\n",
    "docid = list(summary.keys())[i]\n",
    "pp.PrettyPrinter(indent=2).pprint(library[docid])\n",
    "\n",
    "# Print out features\n",
    "for fidx in feature_idx:\n",
    "    print(\"{:20s}: {:.6f}\".format(index_word_mapping[fidx], library_data[i, fidx]))"
   ]
  },
  {
   "cell_type": "code",
   "execution_count": null,
   "metadata": {},
   "outputs": [],
   "source": []
  }
 ],
 "metadata": {
  "kernelspec": {
   "display_name": "Python 3.9.12 ('data-labs')",
   "language": "python",
   "name": "python3"
  },
  "language_info": {
   "codemirror_mode": {
    "name": "ipython",
    "version": 3
   },
   "file_extension": ".py",
   "mimetype": "text/x-python",
   "name": "python",
   "nbconvert_exporter": "python",
   "pygments_lexer": "ipython3",
   "version": "3.9.12"
  },
  "orig_nbformat": 4,
  "vscode": {
   "interpreter": {
    "hash": "152d9d60b2243ad50f390ee631fad853c8d2d0da2ff06bd7eda73af3bf8674db"
   }
  }
 },
 "nbformat": 4,
 "nbformat_minor": 2
}
